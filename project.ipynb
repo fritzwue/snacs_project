{
 "cells": [
  {
   "cell_type": "code",
   "execution_count": 40,
   "metadata": {},
   "outputs": [],
   "source": [
    "import networkx as nx\n",
    "import numpy as np\n",
    "import pandas as pd\n",
    "import matplotlib as plt"
   ]
  },
  {
   "cell_type": "code",
   "execution_count": 41,
   "metadata": {},
   "outputs": [
    {
     "name": "stdout",
     "output_type": "stream",
     "text": [
      "(421578, 2) Index(['source', 'target'], dtype='object')\n",
      "(34546, 4)\n"
     ]
    }
   ],
   "source": [
    "edges = pd.read_csv('HepPh/edges.csv')\n",
    "nodes = pd.read_csv('HepPh/nodes.csv')\n",
    "\n",
    "print(edges.shape, edges.columns)\n",
    "print(nodes.shape)"
   ]
  },
  {
   "cell_type": "code",
   "execution_count": 42,
   "metadata": {},
   "outputs": [
    {
     "name": "stdout",
     "output_type": "stream",
     "text": [
      "Number of edges:  421578\n",
      "Number of nodes:  34546\n"
     ]
    }
   ],
   "source": [
    "edge_list = edges[['source', 'target']].values.tolist()\n",
    "\n",
    "G = nx.DiGraph()\n",
    "\n",
    "G.add_edges_from(edge_list)\n",
    "\n",
    "for _, row in nodes.iterrows():\n",
    "    G.add_node(row['index'], name=row['name'], date=row['date'], pos=row['_pos'])\n",
    "\n",
    "\n",
    "print('Number of edges: ', G.number_of_edges())\n",
    "print('Number of nodes: ', G.number_of_nodes())"
   ]
  },
  {
   "cell_type": "code",
   "execution_count": null,
   "metadata": {},
   "outputs": [],
   "source": [
    "import numpy as np\n",
    "\n",
    "# Function for random selection based on in-degree\n",
    "def ran_indeg_strategy(G, num_pivots):\n",
    "    # Get the in-degree of each node\n",
    "    indegrees = dict(G.in_degree())\n",
    "    all_nodes = list(G.nodes)\n",
    "    \n",
    "    # Create a list of probabilities proportional to node in-degrees\n",
    "    degree_sum = sum(indegrees.values())\n",
    "    probabilities = [indegrees[node] / degree_sum for node in all_nodes]\n",
    "    \n",
    "    # Randomly select pivots with probability proportional to their in-degree\n",
    "    pivots = np.random.choice(all_nodes, size=num_pivots, replace=False, p=probabilities)\n",
    "    \n",
    "    return pivots"
   ]
  },
  {
   "cell_type": "code",
   "execution_count": null,
   "metadata": {},
   "outputs": [],
   "source": [
    "# Function for random selection based on out-degree\n",
    "def ran_outdeg_strategy(G, num_pivots):\n",
    "    # Get the out-degree of each node\n",
    "    outdegrees = dict(G.out_degree())\n",
    "    all_nodes = list(G.nodes)\n",
    "    \n",
    "    # Create a list of probabilities proportional to node out-degrees\n",
    "    degree_sum = sum(outdegrees.values())\n",
    "    probabilities = [outdegrees[node] / degree_sum for node in all_nodes]\n",
    "    \n",
    "    # Randomly select pivots with probability proportional to their out-degree\n",
    "    pivots = np.random.choice(all_nodes, size=num_pivots, replace=False, p=probabilities)\n",
    "    \n",
    "    return pivots"
   ]
  },
  {
   "cell_type": "code",
   "execution_count": 47,
   "metadata": {},
   "outputs": [],
   "source": [
    "def pagerank_pivot_selection(G, num_pivots):\n",
    "    \"\"\"\n",
    "    Select pivots based on PageRank scores.\n",
    "    \n",
    "    Parameters:\n",
    "    - G: NetworkX directed graph (DiGraph)\n",
    "    - num_pivots: Number of pivots to select\n",
    "    \n",
    "    Returns:\n",
    "    - List of pivot nodes\n",
    "    \"\"\"\n",
    "    # Calculate PageRank scores\n",
    "    pagerank_scores = nx.pagerank(G)\n",
    "    \n",
    "    # Sort nodes by PageRank scores in descending order\n",
    "    sorted_nodes = sorted(pagerank_scores, key=pagerank_scores.get, reverse=True)\n",
    "    \n",
    "    # Select the top nodes as pivots\n",
    "    pivots = sorted_nodes[:num_pivots]\n",
    "    return pivots"
   ]
  },
  {
   "cell_type": "code",
   "execution_count": 48,
   "metadata": {},
   "outputs": [
    {
     "data": {
      "text/plain": [
       "[3892, 2274, 9250]"
      ]
     },
     "execution_count": 48,
     "metadata": {},
     "output_type": "execute_result"
    }
   ],
   "source": [
    "pivots = pagerank_pivot_selection(G, 3)\n",
    "pivots"
   ]
  },
  {
   "cell_type": "code",
   "execution_count": null,
   "metadata": {},
   "outputs": [],
   "source": [
    "\n",
    "def estimate_closeness_centrality(G, pivots):\n",
    "    closeness_estimates = {}\n",
    "    for node in G.nodes:\n",
    "        distances = [nx.shortest_path_length(G, source=pivot, target=node) for pivot in pivots]\n",
    "        avg_distance = sum(distances) / len(pivots)\n",
    "        closeness_estimates[node] = 1 / avg_distance if avg_distance > 0 else 0\n",
    "    return closeness_estimates"
   ]
  },
  {
   "cell_type": "code",
   "execution_count": null,
   "metadata": {},
   "outputs": [],
   "source": [
    "# Euclidean distance between exact and estimated centrality\n",
    "def euclidean_distance(exact, estimated):\n",
    "    return np.linalg.norm(exact-estimated)"
   ]
  },
  {
   "cell_type": "code",
   "execution_count": 54,
   "metadata": {},
   "outputs": [
    {
     "name": "stdout",
     "output_type": "stream",
     "text": [
      "Calculating Closeness centrality\n"
     ]
    },
    {
     "ename": "KeyboardInterrupt",
     "evalue": "",
     "output_type": "error",
     "traceback": [
      "\u001b[0;31m---------------------------------------------------------------------------\u001b[0m",
      "\u001b[0;31mKeyboardInterrupt\u001b[0m                         Traceback (most recent call last)",
      "Cell \u001b[0;32mIn[54], line 17\u001b[0m\n\u001b[1;32m     11\u001b[0m             euclidean_dist \u001b[38;5;241m=\u001b[39m euclidean_distance(exact_closeness, estimated_closeness)\n\u001b[1;32m     12\u001b[0m             results\u001b[38;5;241m.\u001b[39mappend({\n\u001b[1;32m     13\u001b[0m                 \u001b[38;5;124m\"\u001b[39m\u001b[38;5;124mnum_pivots\u001b[39m\u001b[38;5;124m\"\u001b[39m: num_pivots,\n\u001b[1;32m     14\u001b[0m                 \u001b[38;5;124m\"\u001b[39m\u001b[38;5;124meuclidean_distance\u001b[39m\u001b[38;5;124m\"\u001b[39m: euclidean_dist\n\u001b[1;32m     15\u001b[0m             })\n\u001b[0;32m---> 17\u001b[0m results \u001b[38;5;241m=\u001b[39m \u001b[43mrun_experiment\u001b[49m\u001b[43m(\u001b[49m\u001b[43mG\u001b[49m\u001b[43m,\u001b[49m\u001b[43m \u001b[49m\u001b[43mpagerank_pivot_selection\u001b[49m\u001b[43m)\u001b[49m\n\u001b[1;32m     18\u001b[0m results\n",
      "Cell \u001b[0;32mIn[54], line 3\u001b[0m, in \u001b[0;36mrun_experiment\u001b[0;34m(G, pivot_strategy, runs)\u001b[0m\n\u001b[1;32m      1\u001b[0m \u001b[38;5;28;01mdef\u001b[39;00m \u001b[38;5;21mrun_experiment\u001b[39m(G, pivot_strategy, runs \u001b[38;5;241m=\u001b[39m \u001b[38;5;241m20\u001b[39m):\n\u001b[1;32m      2\u001b[0m     \u001b[38;5;28mprint\u001b[39m(\u001b[38;5;124m'\u001b[39m\u001b[38;5;124mCalculating Closeness centrality\u001b[39m\u001b[38;5;124m'\u001b[39m)\n\u001b[0;32m----> 3\u001b[0m     exact_closeness \u001b[38;5;241m=\u001b[39m \u001b[43mnx\u001b[49m\u001b[38;5;241;43m.\u001b[39;49m\u001b[43mcloseness_centrality\u001b[49m\u001b[43m(\u001b[49m\u001b[43mG\u001b[49m\u001b[43m)\u001b[49m\n\u001b[1;32m      4\u001b[0m     \u001b[38;5;28mprint\u001b[39m(\u001b[38;5;124m'\u001b[39m\u001b[38;5;124mCloseness centrality: \u001b[39m\u001b[38;5;124m'\u001b[39m, exact_closeness)\n\u001b[1;32m      5\u001b[0m     num_pivots_list \u001b[38;5;241m=\u001b[39m [\u001b[38;5;28mint\u001b[39m(G\u001b[38;5;241m.\u001b[39mnodes() \u001b[38;5;241m/\u001b[39m \u001b[38;5;241m20\u001b[39m \u001b[38;5;241m*\u001b[39m i) \u001b[38;5;28;01mfor\u001b[39;00m i \u001b[38;5;129;01min\u001b[39;00m \u001b[38;5;28mrange\u001b[39m(\u001b[38;5;241m1\u001b[39m, \u001b[38;5;241m21\u001b[39m)]\n",
      "File \u001b[0;32m<class 'networkx.utils.decorators.argmap'> compilation 16:3\u001b[0m, in \u001b[0;36margmap_closeness_centrality_13\u001b[0;34m(G, u, distance, wf_improved, backend, **backend_kwargs)\u001b[0m\n\u001b[1;32m      1\u001b[0m \u001b[38;5;28;01mimport\u001b[39;00m \u001b[38;5;21;01mbz2\u001b[39;00m\n\u001b[1;32m      2\u001b[0m \u001b[38;5;28;01mimport\u001b[39;00m \u001b[38;5;21;01mcollections\u001b[39;00m\n\u001b[0;32m----> 3\u001b[0m \u001b[38;5;28;01mimport\u001b[39;00m \u001b[38;5;21;01mgzip\u001b[39;00m\n\u001b[1;32m      4\u001b[0m \u001b[38;5;28;01mimport\u001b[39;00m \u001b[38;5;21;01minspect\u001b[39;00m\n\u001b[1;32m      5\u001b[0m \u001b[38;5;28;01mimport\u001b[39;00m \u001b[38;5;21;01mitertools\u001b[39;00m\n",
      "File \u001b[0;32m~/Documents/Uni/Social Network Analysis/snacs_project/.venv/lib/python3.11/site-packages/networkx/utils/backends.py:967\u001b[0m, in \u001b[0;36m_dispatchable.__call__\u001b[0;34m(self, backend, *args, **kwargs)\u001b[0m\n\u001b[1;32m    965\u001b[0m     \u001b[38;5;28;01mif\u001b[39;00m backend \u001b[38;5;129;01mis\u001b[39;00m \u001b[38;5;129;01mnot\u001b[39;00m \u001b[38;5;28;01mNone\u001b[39;00m \u001b[38;5;129;01mand\u001b[39;00m backend \u001b[38;5;241m!=\u001b[39m \u001b[38;5;124m\"\u001b[39m\u001b[38;5;124mnetworkx\u001b[39m\u001b[38;5;124m\"\u001b[39m:\n\u001b[1;32m    966\u001b[0m         \u001b[38;5;28;01mraise\u001b[39;00m \u001b[38;5;167;01mImportError\u001b[39;00m(\u001b[38;5;124mf\u001b[39m\u001b[38;5;124m\"\u001b[39m\u001b[38;5;124m'\u001b[39m\u001b[38;5;132;01m{\u001b[39;00mbackend\u001b[38;5;132;01m}\u001b[39;00m\u001b[38;5;124m'\u001b[39m\u001b[38;5;124m backend is not installed\u001b[39m\u001b[38;5;124m\"\u001b[39m)\n\u001b[0;32m--> 967\u001b[0m     \u001b[38;5;28;01mreturn\u001b[39;00m \u001b[38;5;28;43mself\u001b[39;49m\u001b[38;5;241;43m.\u001b[39;49m\u001b[43morig_func\u001b[49m\u001b[43m(\u001b[49m\u001b[38;5;241;43m*\u001b[39;49m\u001b[43margs\u001b[49m\u001b[43m,\u001b[49m\u001b[43m \u001b[49m\u001b[38;5;241;43m*\u001b[39;49m\u001b[38;5;241;43m*\u001b[39;49m\u001b[43mkwargs\u001b[49m\u001b[43m)\u001b[49m\n\u001b[1;32m    969\u001b[0m \u001b[38;5;66;03m# Use `backend_name` in this function instead of `backend`.\u001b[39;00m\n\u001b[1;32m    970\u001b[0m \u001b[38;5;66;03m# This is purely for aesthetics and to make it easier to search for this\u001b[39;00m\n\u001b[1;32m    971\u001b[0m \u001b[38;5;66;03m# variable since \"backend\" is used in many comments and log/error messages.\u001b[39;00m\n\u001b[1;32m    972\u001b[0m backend_name \u001b[38;5;241m=\u001b[39m backend\n",
      "File \u001b[0;32m~/Documents/Uni/Social Network Analysis/snacs_project/.venv/lib/python3.11/site-packages/networkx/algorithms/centrality/closeness.py:124\u001b[0m, in \u001b[0;36mcloseness_centrality\u001b[0;34m(G, u, distance, wf_improved)\u001b[0m\n\u001b[1;32m    122\u001b[0m closeness_dict \u001b[38;5;241m=\u001b[39m {}\n\u001b[1;32m    123\u001b[0m \u001b[38;5;28;01mfor\u001b[39;00m n \u001b[38;5;129;01min\u001b[39;00m nodes:\n\u001b[0;32m--> 124\u001b[0m     sp \u001b[38;5;241m=\u001b[39m \u001b[43mpath_length\u001b[49m\u001b[43m(\u001b[49m\u001b[43mG\u001b[49m\u001b[43m,\u001b[49m\u001b[43m \u001b[49m\u001b[43mn\u001b[49m\u001b[43m)\u001b[49m\n\u001b[1;32m    125\u001b[0m     totsp \u001b[38;5;241m=\u001b[39m \u001b[38;5;28msum\u001b[39m(sp\u001b[38;5;241m.\u001b[39mvalues())\n\u001b[1;32m    126\u001b[0m     len_G \u001b[38;5;241m=\u001b[39m \u001b[38;5;28mlen\u001b[39m(G)\n",
      "File \u001b[0;32m<class 'networkx.utils.decorators.argmap'> compilation 20:3\u001b[0m, in \u001b[0;36margmap_single_source_shortest_path_length_17\u001b[0;34m(G, source, cutoff, backend, **backend_kwargs)\u001b[0m\n\u001b[1;32m      1\u001b[0m \u001b[38;5;28;01mimport\u001b[39;00m \u001b[38;5;21;01mbz2\u001b[39;00m\n\u001b[1;32m      2\u001b[0m \u001b[38;5;28;01mimport\u001b[39;00m \u001b[38;5;21;01mcollections\u001b[39;00m\n\u001b[0;32m----> 3\u001b[0m \u001b[38;5;28;01mimport\u001b[39;00m \u001b[38;5;21;01mgzip\u001b[39;00m\n\u001b[1;32m      4\u001b[0m \u001b[38;5;28;01mimport\u001b[39;00m \u001b[38;5;21;01minspect\u001b[39;00m\n\u001b[1;32m      5\u001b[0m \u001b[38;5;28;01mimport\u001b[39;00m \u001b[38;5;21;01mitertools\u001b[39;00m\n",
      "File \u001b[0;32m~/Documents/Uni/Social Network Analysis/snacs_project/.venv/lib/python3.11/site-packages/networkx/utils/backends.py:967\u001b[0m, in \u001b[0;36m_dispatchable.__call__\u001b[0;34m(self, backend, *args, **kwargs)\u001b[0m\n\u001b[1;32m    965\u001b[0m     \u001b[38;5;28;01mif\u001b[39;00m backend \u001b[38;5;129;01mis\u001b[39;00m \u001b[38;5;129;01mnot\u001b[39;00m \u001b[38;5;28;01mNone\u001b[39;00m \u001b[38;5;129;01mand\u001b[39;00m backend \u001b[38;5;241m!=\u001b[39m \u001b[38;5;124m\"\u001b[39m\u001b[38;5;124mnetworkx\u001b[39m\u001b[38;5;124m\"\u001b[39m:\n\u001b[1;32m    966\u001b[0m         \u001b[38;5;28;01mraise\u001b[39;00m \u001b[38;5;167;01mImportError\u001b[39;00m(\u001b[38;5;124mf\u001b[39m\u001b[38;5;124m\"\u001b[39m\u001b[38;5;124m'\u001b[39m\u001b[38;5;132;01m{\u001b[39;00mbackend\u001b[38;5;132;01m}\u001b[39;00m\u001b[38;5;124m'\u001b[39m\u001b[38;5;124m backend is not installed\u001b[39m\u001b[38;5;124m\"\u001b[39m)\n\u001b[0;32m--> 967\u001b[0m     \u001b[38;5;28;01mreturn\u001b[39;00m \u001b[38;5;28;43mself\u001b[39;49m\u001b[38;5;241;43m.\u001b[39;49m\u001b[43morig_func\u001b[49m\u001b[43m(\u001b[49m\u001b[38;5;241;43m*\u001b[39;49m\u001b[43margs\u001b[49m\u001b[43m,\u001b[49m\u001b[43m \u001b[49m\u001b[38;5;241;43m*\u001b[39;49m\u001b[38;5;241;43m*\u001b[39;49m\u001b[43mkwargs\u001b[49m\u001b[43m)\u001b[49m\n\u001b[1;32m    969\u001b[0m \u001b[38;5;66;03m# Use `backend_name` in this function instead of `backend`.\u001b[39;00m\n\u001b[1;32m    970\u001b[0m \u001b[38;5;66;03m# This is purely for aesthetics and to make it easier to search for this\u001b[39;00m\n\u001b[1;32m    971\u001b[0m \u001b[38;5;66;03m# variable since \"backend\" is used in many comments and log/error messages.\u001b[39;00m\n\u001b[1;32m    972\u001b[0m backend_name \u001b[38;5;241m=\u001b[39m backend\n",
      "File \u001b[0;32m~/Documents/Uni/Social Network Analysis/snacs_project/.venv/lib/python3.11/site-packages/networkx/algorithms/shortest_paths/unweighted.py:63\u001b[0m, in \u001b[0;36msingle_source_shortest_path_length\u001b[0;34m(G, source, cutoff)\u001b[0m\n\u001b[1;32m     61\u001b[0m     cutoff \u001b[38;5;241m=\u001b[39m \u001b[38;5;28mfloat\u001b[39m(\u001b[38;5;124m\"\u001b[39m\u001b[38;5;124minf\u001b[39m\u001b[38;5;124m\"\u001b[39m)\n\u001b[1;32m     62\u001b[0m nextlevel \u001b[38;5;241m=\u001b[39m [source]\n\u001b[0;32m---> 63\u001b[0m \u001b[38;5;28;01mreturn\u001b[39;00m \u001b[38;5;28mdict\u001b[39m(_single_shortest_path_length(G\u001b[38;5;241m.\u001b[39m_adj, nextlevel, cutoff))\n",
      "File \u001b[0;32m~/Documents/Uni/Social Network Analysis/snacs_project/.venv/lib/python3.11/site-packages/networkx/algorithms/shortest_paths/unweighted.py\u001b[0m, in \u001b[0;36m_single_shortest_path_length\u001b[0;34m(adj, firstlevel, cutoff)\u001b[0m\n\u001b[1;32m      0\u001b[0m <Error retrieving source code with stack_data see ipython/ipython#13598>\n",
      "\u001b[0;31mKeyboardInterrupt\u001b[0m: "
     ]
    }
   ],
   "source": [
    "def run_experiment(G, pivot_strategy, runs = 20):\n",
    "    print('Calculating Closeness centrality')\n",
    "    exact_closeness = nx.closeness_centrality(G)\n",
    "    print('Closeness centrality: ', exact_closeness)\n",
    "    num_pivots_list = [int(G.nodes() / 20 * i) for i in range(1, 21)]\n",
    "    results = []\n",
    "    for i in range(runs):\n",
    "        for num_pivots in num_pivots_list:\n",
    "            pivots = pivot_strategy(G, num_pivots)\n",
    "            estimated_closeness = estimate_closeness_centrality(G, pivots)\n",
    "            euclidean_dist = euclidean_distance(exact_closeness, estimated_closeness)\n",
    "            results.append({\n",
    "                \"num_pivots\": num_pivots,\n",
    "                \"euclidean_distance\": euclidean_dist\n",
    "            })\n",
    "\n",
    "results = run_experiment(G, pagerank_pivot_selection)\n",
    "results"
   ]
  }
 ],
 "metadata": {
  "kernelspec": {
   "display_name": ".venv",
   "language": "python",
   "name": "python3"
  },
  "language_info": {
   "codemirror_mode": {
    "name": "ipython",
    "version": 3
   },
   "file_extension": ".py",
   "mimetype": "text/x-python",
   "name": "python",
   "nbconvert_exporter": "python",
   "pygments_lexer": "ipython3",
   "version": "3.11.7"
  }
 },
 "nbformat": 4,
 "nbformat_minor": 2
}
